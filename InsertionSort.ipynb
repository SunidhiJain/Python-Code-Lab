{
 "cells": [
  {
   "cell_type": "code",
   "execution_count": 5,
   "metadata": {},
   "outputs": [],
   "source": [
    "def sort(n, x, index):\n",
    "    '''\n",
    "    Objective: helper function to partially sort a list\n",
    "    Input Parameters: \n",
    "        n: list of integers\n",
    "        x: value to be inserted\n",
    "        index: index value upto which the list n is already sorted\n",
    "    Return Value: partially sorted list \n",
    "    ''' \n",
    "    '''\n",
    "    Approach: Insert x into its correct position in range [0,index+1]\n",
    "    '''\n",
    "    if index < 0:\n",
    "        n.insert(0,x)\n",
    "        return n\n",
    "    if x < n[index]:\n",
    "        index -= 1\n",
    "    elif x >= n[index]:\n",
    "        n.insert(index+1,x)\n",
    "        return n\n",
    "    return sort(n,x,index)\n",
    "\n",
    "def insertionSort(n, x, index = 0):\n",
    "    '''\n",
    "    Objective: insert an element in an unsorted list and then sort the list\n",
    "    Input Parmeters: \n",
    "        n: list of integers\n",
    "        x: element to be inserted\n",
    "    Return Value: sorted list with element inserted\n",
    "    '''\n",
    "    '''\n",
    "    Approach: \n",
    "        -> Insert the value x in unsorted list\n",
    "        -> incrementally start sorting the list values starting with first 2 elements using sort function\n",
    "        -> return the partially sorted list and update the original list and call recursion on this updated list\n",
    "        -> return when the list is completely sorted\n",
    "    '''\n",
    "    if index == 0:\n",
    "        n.insert(0,x)\n",
    "    if index == len(n):\n",
    "        return n\n",
    "    if index < len(n)-1:\n",
    "        tmp = n.pop(index+1)\n",
    "        n = sort(n, tmp, index)\n",
    "    return insertionSort(n, x, index+1) "
   ]
  },
  {
   "cell_type": "code",
   "execution_count": 6,
   "metadata": {},
   "outputs": [
    {
     "data": {
      "text/plain": [
       "[9, 13, 65, 87, 100]"
      ]
     },
     "execution_count": 6,
     "metadata": {},
     "output_type": "execute_result"
    }
   ],
   "source": [
    "insertionSort([87,65, 9, 13], 100)"
   ]
  },
  {
   "cell_type": "code",
   "execution_count": 7,
   "metadata": {},
   "outputs": [
    {
     "data": {
      "text/plain": [
       "[10, 12, 43, 56, 90]"
      ]
     },
     "execution_count": 7,
     "metadata": {},
     "output_type": "execute_result"
    }
   ],
   "source": [
    "insertionSort([43,12,90,56],10)"
   ]
  },
  {
   "cell_type": "code",
   "execution_count": 8,
   "metadata": {},
   "outputs": [
    {
     "data": {
      "text/plain": [
       "[12, 43, 56, 90, 100]"
      ]
     },
     "execution_count": 8,
     "metadata": {},
     "output_type": "execute_result"
    }
   ],
   "source": [
    "insertionSort([43,12,90,56],100)"
   ]
  },
  {
   "cell_type": "code",
   "execution_count": 9,
   "metadata": {},
   "outputs": [
    {
     "data": {
      "text/plain": [
       "[12, 34, 43, 56, 90]"
      ]
     },
     "execution_count": 9,
     "metadata": {},
     "output_type": "execute_result"
    }
   ],
   "source": [
    "insertionSort([43,12,90,56],34)"
   ]
  },
  {
   "cell_type": "code",
   "execution_count": 10,
   "metadata": {},
   "outputs": [
    {
     "name": "stdout",
     "output_type": "stream",
     "text": [
      "Help on function insertionSort in module __main__:\n",
      "\n",
      "insertionSort(n, x, index=0)\n",
      "    Objective: insert an element in an unsorted list and then sort the list\n",
      "    Input: \n",
      "        n: list of integers\n",
      "        x: element to be inserted\n",
      "    Return: sorted list with element inserted\n",
      "\n"
     ]
    }
   ],
   "source": [
    "help(insertionSort)"
   ]
  },
  {
   "cell_type": "code",
   "execution_count": 11,
   "metadata": {},
   "outputs": [
    {
     "name": "stdout",
     "output_type": "stream",
     "text": [
      "Help on function sort in module __main__:\n",
      "\n",
      "sort(n, x, index)\n",
      "    Objective: helper function to partially sort a list\n",
      "    Input: \n",
      "        n: list of integers\n",
      "        x: value to be inserted\n",
      "        index: index value upto which the list n is already sorted\n",
      "    Return: partially sorted list\n",
      "\n"
     ]
    }
   ],
   "source": [
    "help(sort)"
   ]
  },
  {
   "cell_type": "code",
   "execution_count": null,
   "metadata": {},
   "outputs": [],
   "source": []
  }
 ],
 "metadata": {
  "kernelspec": {
   "display_name": "Python 3",
   "language": "python",
   "name": "python3"
  },
  "language_info": {
   "codemirror_mode": {
    "name": "ipython",
    "version": 3
   },
   "file_extension": ".py",
   "mimetype": "text/x-python",
   "name": "python",
   "nbconvert_exporter": "python",
   "pygments_lexer": "ipython3",
   "version": "3.7.1"
  }
 },
 "nbformat": 4,
 "nbformat_minor": 2
}
